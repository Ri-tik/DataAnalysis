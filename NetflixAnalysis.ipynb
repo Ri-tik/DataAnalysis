{
 "cells": [
  {
   "cell_type": "markdown",
   "metadata": {},
   "source": [
    "# Netflix Movies & Tv Shows - Dataset"
   ]
  },
  {
   "cell_type": "markdown",
   "metadata": {},
   "source": [
    "## Data Preparation and Cleaning"
   ]
  },
  {
   "cell_type": "markdown",
   "metadata": {},
   "source": [
    "> Tasks:\n",
    ">\n",
    "> - Load the dataset into a data frame using Pandas\n",
    "> - Explore the number of rows & columns, ranges of values etc.\n",
    "> - Handle missing, incorrect and invalid data\n",
    "> - Perform any additional steps (parsing dates, creating additional columns, merging multiple dataset etc.)"
   ]
  },
  {
   "cell_type": "code",
   "execution_count": 2,
   "metadata": {},
   "outputs": [],
   "source": [
    "import pandas as pd\n",
    "import matplotlib.pyplot as plt\n",
    "import seaborn as sns\n",
    "from matplotlib import style\n",
    "style.use('dark_background')"
   ]
  },
  {
   "cell_type": "markdown",
   "metadata": {},
   "source": [
    "### Read Csv and Print Info"
   ]
  },
  {
   "cell_type": "code",
   "execution_count": 3,
   "metadata": {},
   "outputs": [
    {
     "name": "stdout",
     "output_type": "stream",
     "text": [
      "-------INFO------\n",
      "<class 'pandas.core.frame.DataFrame'>\n",
      "RangeIndex: 7787 entries, 0 to 7786\n",
      "Data columns (total 12 columns):\n",
      " #   Column        Non-Null Count  Dtype \n",
      "---  ------        --------------  ----- \n",
      " 0   show_id       7787 non-null   object\n",
      " 1   type          7787 non-null   object\n",
      " 2   title         7787 non-null   object\n",
      " 3   director      5398 non-null   object\n",
      " 4   cast          7069 non-null   object\n",
      " 5   country       7280 non-null   object\n",
      " 6   date_added    7777 non-null   object\n",
      " 7   release_year  7787 non-null   int64 \n",
      " 8   rating        7780 non-null   object\n",
      " 9   duration      7787 non-null   object\n",
      " 10  listed_in     7787 non-null   object\n",
      " 11  description   7787 non-null   object\n",
      "dtypes: int64(1), object(11)\n",
      "memory usage: 730.2+ KB\n",
      "None\n"
     ]
    }
   ],
   "source": [
    "netfx_df = pd.read_csv('netflix_titles.csv')\n",
    "print(\"-------INFO------\")\n",
    "print(netfx_df.info())"
   ]
  },
  {
   "cell_type": "markdown",
   "metadata": {},
   "source": [
    "### Description:"
   ]
  },
  {
   "cell_type": "code",
   "execution_count": 4,
   "metadata": {},
   "outputs": [
    {
     "name": "stdout",
     "output_type": "stream",
     "text": [
      "-------Describe--------\n",
      "       release_year\n",
      "count   7787.000000\n",
      "mean    2013.932580\n",
      "std        8.757395\n",
      "min     1925.000000\n",
      "25%     2013.000000\n",
      "50%     2017.000000\n",
      "75%     2018.000000\n",
      "max     2021.000000\n"
     ]
    }
   ],
   "source": [
    "print(\"-------Describe--------\")\n",
    "print(netfx_df.describe())"
   ]
  },
  {
   "cell_type": "markdown",
   "metadata": {},
   "source": [
    "### Drop Rows With Na Values"
   ]
  },
  {
   "cell_type": "code",
   "execution_count": 5,
   "metadata": {},
   "outputs": [
    {
     "name": "stdout",
     "output_type": "stream",
     "text": [
      "Shape Before Filteration:\n",
      "(7787, 12)\n",
      "Shape After Filteration:\n",
      "(4808, 12)\n"
     ]
    }
   ],
   "source": [
    "print(\"Shape Before Filteration:\")\n",
    "print(netfx_df.shape)\n",
    "netfx_df.dropna(inplace=True)\n",
    "print(\"Shape After Filteration:\")\n",
    "print(netfx_df.shape)"
   ]
  },
  {
   "cell_type": "markdown",
   "metadata": {},
   "source": [
    "### Columns"
   ]
  },
  {
   "cell_type": "code",
   "execution_count": 6,
   "metadata": {},
   "outputs": [
    {
     "name": "stdout",
     "output_type": "stream",
     "text": [
      "Columns:\n",
      "Index(['show_id', 'type', 'title', 'director', 'cast', 'country', 'date_added',\n",
      "       'release_year', 'rating', 'duration', 'listed_in', 'description'],\n",
      "      dtype='object')\n"
     ]
    }
   ],
   "source": [
    "print(\"Columns:\")\n",
    "print(netfx_df.columns)"
   ]
  },
  {
   "cell_type": "markdown",
   "metadata": {},
   "source": [
    "### Sample"
   ]
  },
  {
   "cell_type": "code",
   "execution_count": 7,
   "metadata": {},
   "outputs": [
    {
     "name": "stdout",
     "output_type": "stream",
     "text": [
      "Sample:\n",
      "     show_id   type               title      director  \\\n",
      "7667   s7668  Movie  World Trade Center  Oliver Stone   \n",
      "2084   s2085  Movie          F the Prom    Benny Fine   \n",
      "\n",
      "                                                   cast        country  \\\n",
      "7667  Nicolas Cage, Michael Peña, Maggie Gyllenhaal,...  United States   \n",
      "2084  Cameron Palatas, Richard Karn, Cheri Oteri, Da...  United States   \n",
      "\n",
      "             date_added  release_year rating duration  \\\n",
      "7667  November 20, 2019          2006  PG-13  129 min   \n",
      "2084      March 5, 2018          2017  TV-MA   92 min   \n",
      "\n",
      "                       listed_in  \\\n",
      "7667  Action & Adventure, Dramas   \n",
      "2084   Comedies, Romantic Movies   \n",
      "\n",
      "                                            description  \n",
      "7667  Working under treacherous conditions, an army ...  \n",
      "2084  Maddy and Cole were inseparable before high sc...  \n"
     ]
    }
   ],
   "source": [
    "print(\"Sample:\")\n",
    "print(netfx_df.sample(2))"
   ]
  },
  {
   "cell_type": "markdown",
   "metadata": {},
   "source": [
    "### Changing The Format of duration from object to int by removing extra strings like min and season,etc."
   ]
  },
  {
   "cell_type": "markdown",
   "metadata": {},
   "source": [
    "### Also count the total number of hours and seasons in dataset."
   ]
  },
  {
   "cell_type": "code",
   "execution_count": 8,
   "metadata": {},
   "outputs": [
    {
     "data": {
      "text/plain": [
       "478514"
      ]
     },
     "execution_count": 8,
     "metadata": {},
     "output_type": "execute_result"
    }
   ],
   "source": [
    "netfx_sum = netfx_df.query('type == \"Movie\"')\n",
    "netfx_sum = netfx_sum['duration'].str.replace(r' min', '').astype(int)\n",
    "netfx_sum.sum()"
   ]
  },
  {
   "cell_type": "code",
   "execution_count": 9,
   "metadata": {},
   "outputs": [
    {
     "data": {
      "text/plain": [
       "262"
      ]
     },
     "execution_count": 9,
     "metadata": {},
     "output_type": "execute_result"
    }
   ],
   "source": [
    "netfx_sum2 = netfx_df.query('type == \"TV Show\"')\n",
    "netfx_sum2 = netfx_sum2['duration'].str.replace(r'[\" Seasons\", \" Season\"]', '').astype(int)\n",
    "netfx_sum2.sum()"
   ]
  },
  {
   "cell_type": "markdown",
   "metadata": {},
   "source": [
    "## Exploratory Analysis and Visualization\n"
   ]
  },
  {
   "cell_type": "markdown",
   "metadata": {},
   "source": [
    "> Task:\n",
    "> \n",
    "> - Compute the mean, sum, range and other interesting statistics for numeric columns\n",
    "> - Explore distributions of numeric columns using histograms etc.\n",
    "> - Explore relationship between columns using scatter plots, bar charts etc.\n",
    "> - Make a note of interesting insights from the exploratory analysis"
   ]
  },
  {
   "cell_type": "code",
   "execution_count": 13,
   "metadata": {},
   "outputs": [],
   "source": [
    "import seaborn as sns\n",
    "import matplotlib\n",
    "import matplotlib.pyplot as plt\n",
    "%matplotlib inline\n",
    "\n",
    "sns.set_style('darkgrid')\n",
    "matplotlib.rcParams['font.size'] = 14\n",
    "#matplotlib.rcParams['figure.figsize'] = (9, 5)\n",
    "matplotlib.rcParams['figure.facecolor'] = '#00000000'"
   ]
  },
  {
   "cell_type": "markdown",
   "metadata": {},
   "source": [
    "**Top Countries With Highest No. of movies or Tv Shows.**"
   ]
  },
  {
   "cell_type": "code",
   "execution_count": 14,
   "metadata": {},
   "outputs": [
    {
     "data": {
      "text/html": [
       "<div>\n",
       "<style scoped>\n",
       "    .dataframe tbody tr th:only-of-type {\n",
       "        vertical-align: middle;\n",
       "    }\n",
       "\n",
       "    .dataframe tbody tr th {\n",
       "        vertical-align: top;\n",
       "    }\n",
       "\n",
       "    .dataframe thead th {\n",
       "        text-align: right;\n",
       "    }\n",
       "</style>\n",
       "<table border=\"1\" class=\"dataframe\">\n",
       "  <thead>\n",
       "    <tr style=\"text-align: right;\">\n",
       "      <th></th>\n",
       "      <th>country</th>\n",
       "      <th>Count</th>\n",
       "    </tr>\n",
       "  </thead>\n",
       "  <tbody>\n",
       "    <tr>\n",
       "      <th>192</th>\n",
       "      <td>Indonesia</td>\n",
       "      <td>67</td>\n",
       "    </tr>\n",
       "    <tr>\n",
       "      <th>272</th>\n",
       "      <td>Philippines</td>\n",
       "      <td>70</td>\n",
       "    </tr>\n",
       "    <tr>\n",
       "      <th>357</th>\n",
       "      <td>Turkey</td>\n",
       "      <td>76</td>\n",
       "    </tr>\n",
       "    <tr>\n",
       "      <th>227</th>\n",
       "      <td>Japan</td>\n",
       "      <td>76</td>\n",
       "    </tr>\n",
       "    <tr>\n",
       "      <th>317</th>\n",
       "      <td>Spain</td>\n",
       "      <td>83</td>\n",
       "    </tr>\n",
       "    <tr>\n",
       "      <th>100</th>\n",
       "      <td>Egypt</td>\n",
       "      <td>87</td>\n",
       "    </tr>\n",
       "    <tr>\n",
       "      <th>39</th>\n",
       "      <td>Canada</td>\n",
       "      <td>104</td>\n",
       "    </tr>\n",
       "    <tr>\n",
       "      <th>369</th>\n",
       "      <td>United Kingdom</td>\n",
       "      <td>174</td>\n",
       "    </tr>\n",
       "    <tr>\n",
       "      <th>173</th>\n",
       "      <td>India</td>\n",
       "      <td>832</td>\n",
       "    </tr>\n",
       "    <tr>\n",
       "      <th>440</th>\n",
       "      <td>United States</td>\n",
       "      <td>1653</td>\n",
       "    </tr>\n",
       "  </tbody>\n",
       "</table>\n",
       "</div>"
      ],
      "text/plain": [
       "            country  Count\n",
       "192       Indonesia     67\n",
       "272     Philippines     70\n",
       "357          Turkey     76\n",
       "227           Japan     76\n",
       "317           Spain     83\n",
       "100           Egypt     87\n",
       "39           Canada    104\n",
       "369  United Kingdom    174\n",
       "173           India    832\n",
       "440   United States   1653"
      ]
     },
     "execution_count": 14,
     "metadata": {},
     "output_type": "execute_result"
    }
   ],
   "source": [
    "netfx_bycountry = netfx_df.groupby('country').country.count().to_frame('Count').reset_index().sort_values('Count',ascending=False).head(10)\n",
    "netfx_bycountry = netfx_bycountry.sort_values('Count',ascending=True)\n",
    "netfx_bycountry"
   ]
  },
  {
   "cell_type": "code",
   "execution_count": 29,
   "metadata": {},
   "outputs": [
    {
     "name": "stderr",
     "output_type": "stream",
     "text": [
      "/opt/conda/lib/python3.8/site-packages/seaborn/_decorators.py:36: FutureWarning: Pass the following variables as keyword args: x, y. From version 0.12, the only valid positional argument will be `data`, and passing other arguments without an explicit keyword will result in an error or misinterpretation.\n",
      "  warnings.warn(\n"
     ]
    },
    {
     "data": {
      "image/png": "[encoded data removed]",
      "text/plain": [
       "<Figure size 1080x576 with 1 Axes>"
      ]
     },
     "metadata": {
      "needs_background": "light"
     },
     "output_type": "display_data"
    }
   ],
   "source": [
    "plt.figure(figsize=(15,8));\n",
    "sns.barplot('country','Count',data=netfx_bycountry);\n",
    "plt.xlabel('Countries');\n",
    "plt.ylabel('Counts');"
   ]
  },
  {
   "cell_type": "markdown",
   "metadata": {},
   "source": [
    "**Total No. Of Movies Released Each Year From 2010 to 2020**"
   ]
  },
  {
   "cell_type": "code",
   "execution_count": 16,
   "metadata": {},
   "outputs": [
    {
     "data": {
      "text/html": [
       "<div>\n",
       "<style scoped>\n",
       "    .dataframe tbody tr th:only-of-type {\n",
       "        vertical-align: middle;\n",
       "    }\n",
       "\n",
       "    .dataframe tbody tr th {\n",
       "        vertical-align: top;\n",
       "    }\n",
       "\n",
       "    .dataframe thead th {\n",
       "        text-align: right;\n",
       "    }\n",
       "</style>\n",
       "<table border=\"1\" class=\"dataframe\">\n",
       "  <thead>\n",
       "    <tr style=\"text-align: right;\">\n",
       "      <th></th>\n",
       "      <th>release_year</th>\n",
       "      <th>Count</th>\n",
       "    </tr>\n",
       "  </thead>\n",
       "  <tbody>\n",
       "    <tr>\n",
       "      <th>59</th>\n",
       "      <td>2010</td>\n",
       "      <td>123</td>\n",
       "    </tr>\n",
       "    <tr>\n",
       "      <th>61</th>\n",
       "      <td>2012</td>\n",
       "      <td>146</td>\n",
       "    </tr>\n",
       "    <tr>\n",
       "      <th>62</th>\n",
       "      <td>2013</td>\n",
       "      <td>180</td>\n",
       "    </tr>\n",
       "    <tr>\n",
       "      <th>63</th>\n",
       "      <td>2014</td>\n",
       "      <td>217</td>\n",
       "    </tr>\n",
       "    <tr>\n",
       "      <th>64</th>\n",
       "      <td>2015</td>\n",
       "      <td>329</td>\n",
       "    </tr>\n",
       "    <tr>\n",
       "      <th>65</th>\n",
       "      <td>2016</td>\n",
       "      <td>552</td>\n",
       "    </tr>\n",
       "    <tr>\n",
       "      <th>66</th>\n",
       "      <td>2017</td>\n",
       "      <td>627</td>\n",
       "    </tr>\n",
       "    <tr>\n",
       "      <th>67</th>\n",
       "      <td>2018</td>\n",
       "      <td>607</td>\n",
       "    </tr>\n",
       "    <tr>\n",
       "      <th>68</th>\n",
       "      <td>2019</td>\n",
       "      <td>464</td>\n",
       "    </tr>\n",
       "    <tr>\n",
       "      <th>69</th>\n",
       "      <td>2020</td>\n",
       "      <td>345</td>\n",
       "    </tr>\n",
       "  </tbody>\n",
       "</table>\n",
       "</div>"
      ],
      "text/plain": [
       "    release_year  Count\n",
       "59          2010    123\n",
       "61          2012    146\n",
       "62          2013    180\n",
       "63          2014    217\n",
       "64          2015    329\n",
       "65          2016    552\n",
       "66          2017    627\n",
       "67          2018    607\n",
       "68          2019    464\n",
       "69          2020    345"
      ]
     },
     "execution_count": 16,
     "metadata": {},
     "output_type": "execute_result"
    }
   ],
   "source": [
    "netfx_byyear = netfx_df.query('type == \"Movie\"').groupby('release_year').release_year.count().to_frame('Count').reset_index().sort_values('Count',ascending=False).head(10)\n",
    "netfx_byyear = netfx_byyear.sort_index(ascending=True)\n",
    "netfx_byyear"
   ]
  },
  {
   "cell_type": "code",
   "execution_count": 32,
   "metadata": {},
   "outputs": [
    {
     "data": {
      "image/png": "[encoded data removed]",
      "text/plain": [
       "<Figure size 576x360 with 1 Axes>"
      ]
     },
     "metadata": {
      "needs_background": "light"
     },
     "output_type": "display_data"
    }
   ],
   "source": [
    "plt.figure(figsize=(8,5));\n",
    "plt.xlabel('Years');\n",
    "plt.ylabel('Counts');\n",
    "plt.plot(netfx_byyear.release_year,netfx_byyear.Count,marker='x');"
   ]
  },
  {
   "cell_type": "markdown",
   "metadata": {},
   "source": [
    "**Total No. Of Movies Listed In Each Rating Categories**"
   ]
  },
  {
   "cell_type": "code",
   "execution_count": 18,
   "metadata": {},
   "outputs": [
    {
     "data": {
      "text/html": [
       "<div>\n",
       "<style scoped>\n",
       "    .dataframe tbody tr th:only-of-type {\n",
       "        vertical-align: middle;\n",
       "    }\n",
       "\n",
       "    .dataframe tbody tr th {\n",
       "        vertical-align: top;\n",
       "    }\n",
       "\n",
       "    .dataframe thead th {\n",
       "        text-align: right;\n",
       "    }\n",
       "</style>\n",
       "<table border=\"1\" class=\"dataframe\">\n",
       "  <thead>\n",
       "    <tr style=\"text-align: right;\">\n",
       "      <th></th>\n",
       "      <th>rating</th>\n",
       "      <th>Count</th>\n",
       "    </tr>\n",
       "  </thead>\n",
       "  <tbody>\n",
       "    <tr>\n",
       "      <th>2</th>\n",
       "      <td>NR</td>\n",
       "      <td>62</td>\n",
       "    </tr>\n",
       "    <tr>\n",
       "      <th>11</th>\n",
       "      <td>TV-Y7</td>\n",
       "      <td>69</td>\n",
       "    </tr>\n",
       "    <tr>\n",
       "      <th>10</th>\n",
       "      <td>TV-Y</td>\n",
       "      <td>71</td>\n",
       "    </tr>\n",
       "    <tr>\n",
       "      <th>7</th>\n",
       "      <td>TV-G</td>\n",
       "      <td>80</td>\n",
       "    </tr>\n",
       "    <tr>\n",
       "      <th>3</th>\n",
       "      <td>PG</td>\n",
       "      <td>238</td>\n",
       "    </tr>\n",
       "    <tr>\n",
       "      <th>4</th>\n",
       "      <td>PG-13</td>\n",
       "      <td>375</td>\n",
       "    </tr>\n",
       "    <tr>\n",
       "      <th>9</th>\n",
       "      <td>TV-PG</td>\n",
       "      <td>413</td>\n",
       "    </tr>\n",
       "    <tr>\n",
       "      <th>5</th>\n",
       "      <td>R</td>\n",
       "      <td>654</td>\n",
       "    </tr>\n",
       "    <tr>\n",
       "      <th>6</th>\n",
       "      <td>TV-14</td>\n",
       "      <td>1133</td>\n",
       "    </tr>\n",
       "    <tr>\n",
       "      <th>8</th>\n",
       "      <td>TV-MA</td>\n",
       "      <td>1665</td>\n",
       "    </tr>\n",
       "  </tbody>\n",
       "</table>\n",
       "</div>"
      ],
      "text/plain": [
       "   rating  Count\n",
       "2      NR     62\n",
       "11  TV-Y7     69\n",
       "10   TV-Y     71\n",
       "7    TV-G     80\n",
       "3      PG    238\n",
       "4   PG-13    375\n",
       "9   TV-PG    413\n",
       "5       R    654\n",
       "6   TV-14   1133\n",
       "8   TV-MA   1665"
      ]
     },
     "execution_count": 18,
     "metadata": {},
     "output_type": "execute_result"
    }
   ],
   "source": [
    "netfx_byrate = netfx_df.groupby('rating').rating.count().to_frame('Count').reset_index().sort_values('Count',ascending=False).head(10)\n",
    "netfx_byrate = netfx_byrate.sort_values('Count',ascending=True)\n",
    "netfx_byrate"
   ]
  },
  {
   "cell_type": "code",
   "execution_count": 33,
   "metadata": {},
   "outputs": [
    {
     "name": "stderr",
     "output_type": "stream",
     "text": [
      "/opt/conda/lib/python3.8/site-packages/seaborn/_decorators.py:36: FutureWarning: Pass the following variables as keyword args: x, y. From version 0.12, the only valid positional argument will be `data`, and passing other arguments without an explicit keyword will result in an error or misinterpretation.\n",
      "  warnings.warn(\n",
      "/opt/conda/lib/python3.8/site-packages/seaborn/_decorators.py:36: FutureWarning: Pass the following variables as keyword args: x, y. From version 0.12, the only valid positional argument will be `data`, and passing other arguments without an explicit keyword will result in an error or misinterpretation.\n",
      "  warnings.warn(\n"
     ]
    },
    {
     "data": {
      "image/png": "[encoded data removed]",
      "text/plain": [
       "<Figure size 576x360 with 1 Axes>"
      ]
     },
     "metadata": {
      "needs_background": "light"
     },
     "output_type": "display_data"
    }
   ],
   "source": [
    "plt.figure(figsize=(8,5));\n",
    "sns.barplot('rating','Count',data=netfx_byrate);\n",
    "sns.lineplot('rating','Count',data=netfx_byrate);"
   ]
  },
  {
   "cell_type": "markdown",
   "metadata": {},
   "source": [
    "**Complete history trend of total no. of movies being released each year from 1940 to 2020.**"
   ]
  },
  {
   "cell_type": "code",
   "execution_count": 35,
   "metadata": {},
   "outputs": [
    {
     "data": {
      "image/png": "[encoded data removed]",
      "text/plain": [
       "<Figure size 864x360 with 1 Axes>"
      ]
     },
     "metadata": {
      "needs_background": "light"
     },
     "output_type": "display_data"
    }
   ],
   "source": [
    "plt.figure(figsize=(12,5));\n",
    "sns.histplot(netfx_df.release_year);"
   ]
  },
  {
   "cell_type": "markdown",
   "metadata": {},
   "source": [
    "**Classification of major movie genres.**"
   ]
  },
  {
   "cell_type": "code",
   "execution_count": 36,
   "metadata": {},
   "outputs": [],
   "source": [
    "comedies = netfx_df[\"listed_in\"].str.contains(r'Comed.*')\n",
    "comedies = netfx_df[comedies].title.count()\n",
    "action = netfx_df[\"listed_in\"].str.contains(r'Actio.*')\n",
    "action = netfx_df[action].title.count()\n",
    "horror = netfx_df[\"listed_in\"].str.contains(r'Horro.*')\n",
    "horror = netfx_df[horror].title.count()\n",
    "drama = netfx_df[\"listed_in\"].str.contains(r'Drama.*')\n",
    "drama = netfx_df[drama].title.count()\n",
    "adventure = netfx_df[\"listed_in\"].str.contains(r'Adventu.*')\n",
    "adventure = netfx_df[adventure].title.count()\n",
    "scifi = netfx_df[\"listed_in\"].str.contains(r'Sci-Fi.*')\n",
    "scifi = netfx_df[scifi].title.count()\n",
    "dat = pd.DataFrame({'Classification': [comedies, action , horror, drama, adventure, scifi]},\n",
    "                  index=['Comedy', 'Action', 'Horror', 'Drama', 'Adventure', 'Sci-Fi'])"
   ]
  },
  {
   "cell_type": "code",
   "execution_count": 38,
   "metadata": {},
   "outputs": [
    {
     "data": {
      "image/png": "[encoded data removed]",
      "text/plain": [
       "<Figure size 720x864 with 1 Axes>"
      ]
     },
     "metadata": {},
     "output_type": "display_data"
    }
   ],
   "source": [
    "dat.plot.pie(y='Classification', figsize=(10, 12));"
   ]
  },
  {
   "cell_type": "markdown",
   "metadata": {},
   "source": [
    "Let us save and upload our work to Jovian before continuing"
   ]
  },
  {
   "cell_type": "markdown",
   "metadata": {},
   "source": [
    "### Which Tv Shows having 5 or more than 5 Seasons ?"
   ]
  },
  {
   "cell_type": "code",
   "execution_count": 43,
   "metadata": {},
   "outputs": [
    {
     "data": {
      "text/html": [
       "<div>\n",
       "<style scoped>\n",
       "    .dataframe tbody tr th:only-of-type {\n",
       "        vertical-align: middle;\n",
       "    }\n",
       "\n",
       "    .dataframe tbody tr th {\n",
       "        vertical-align: top;\n",
       "    }\n",
       "\n",
       "    .dataframe thead th {\n",
       "        text-align: right;\n",
       "    }\n",
       "</style>\n",
       "<table border=\"1\" class=\"dataframe\">\n",
       "  <thead>\n",
       "    <tr style=\"text-align: right;\">\n",
       "      <th></th>\n",
       "      <th>show_id</th>\n",
       "      <th>type</th>\n",
       "      <th>title</th>\n",
       "      <th>director</th>\n",
       "      <th>cast</th>\n",
       "      <th>country</th>\n",
       "      <th>date_added</th>\n",
       "      <th>release_year</th>\n",
       "      <th>rating</th>\n",
       "      <th>duration</th>\n",
       "      <th>listed_in</th>\n",
       "      <th>description</th>\n",
       "    </tr>\n",
       "  </thead>\n",
       "  <tbody>\n",
       "    <tr>\n",
       "      <th>1181</th>\n",
       "      <td>s1182</td>\n",
       "      <td>TV Show</td>\n",
       "      <td>Call the Midwife</td>\n",
       "      <td>Philippa Lowthorpe</td>\n",
       "      <td>Vanessa Redgrave, Bryony Hannah, Helen George,...</td>\n",
       "      <td>United Kingdom</td>\n",
       "      <td>September 15, 2020</td>\n",
       "      <td>2020</td>\n",
       "      <td>TV-MA</td>\n",
       "      <td>9 Seasons</td>\n",
       "      <td>British TV Shows, International TV Shows, TV D...</td>\n",
       "      <td>This period drama set in impoverished East Lon...</td>\n",
       "    </tr>\n",
       "    <tr>\n",
       "      <th>4404</th>\n",
       "      <td>s4405</td>\n",
       "      <td>TV Show</td>\n",
       "      <td>Naruto</td>\n",
       "      <td>Hayato Date</td>\n",
       "      <td>Junko Takeuchi, Chie Nakamura, Noriaki Sugiyam...</td>\n",
       "      <td>Japan</td>\n",
       "      <td>September 1, 2019</td>\n",
       "      <td>2006</td>\n",
       "      <td>TV-14</td>\n",
       "      <td>9 Seasons</td>\n",
       "      <td>Anime Series, International TV Shows</td>\n",
       "      <td>Guided by the spirit demon within him, orphane...</td>\n",
       "    </tr>\n",
       "    <tr>\n",
       "      <th>584</th>\n",
       "      <td>s585</td>\n",
       "      <td>TV Show</td>\n",
       "      <td>Arrow</td>\n",
       "      <td>James Bamford</td>\n",
       "      <td>Stephen Amell, Katie Cassidy, David Ramsey, Wi...</td>\n",
       "      <td>United States</td>\n",
       "      <td>February 5, 2020</td>\n",
       "      <td>2019</td>\n",
       "      <td>TV-14</td>\n",
       "      <td>8 Seasons</td>\n",
       "      <td>Crime TV Shows, TV Action &amp; Adventure</td>\n",
       "      <td>Based on DC Comics' Green Arrow, an affluent p...</td>\n",
       "    </tr>\n",
       "    <tr>\n",
       "      <th>5291</th>\n",
       "      <td>s5292</td>\n",
       "      <td>TV Show</td>\n",
       "      <td>Royal Pains</td>\n",
       "      <td>Jay Chandrasekhar</td>\n",
       "      <td>Mark Feuerstein, Paulo Costanzo, Reshma Shetty...</td>\n",
       "      <td>United States</td>\n",
       "      <td>May 18, 2017</td>\n",
       "      <td>2016</td>\n",
       "      <td>TV-PG</td>\n",
       "      <td>8 Seasons</td>\n",
       "      <td>TV Comedies, TV Dramas</td>\n",
       "      <td>Dr. Hank Lawson unexpectedly gets a career upg...</td>\n",
       "    </tr>\n",
       "    <tr>\n",
       "      <th>6415</th>\n",
       "      <td>s6416</td>\n",
       "      <td>TV Show</td>\n",
       "      <td>The Great British Baking Show</td>\n",
       "      <td>Andy Devonshire</td>\n",
       "      <td>Mel Giedroyc, Sue Perkins, Mary Berry, Paul Ho...</td>\n",
       "      <td>United Kingdom</td>\n",
       "      <td>September 25, 2020</td>\n",
       "      <td>2020</td>\n",
       "      <td>TV-14</td>\n",
       "      <td>8 Seasons</td>\n",
       "      <td>British TV Shows, Reality TV</td>\n",
       "      <td>A talented batch of amateur bakers face off in...</td>\n",
       "    </tr>\n",
       "  </tbody>\n",
       "</table>\n",
       "</div>"
      ],
      "text/plain": [
       "     show_id     type                          title            director  \\\n",
       "1181   s1182  TV Show               Call the Midwife  Philippa Lowthorpe   \n",
       "4404   s4405  TV Show                         Naruto         Hayato Date   \n",
       "584     s585  TV Show                          Arrow       James Bamford   \n",
       "5291   s5292  TV Show                    Royal Pains   Jay Chandrasekhar   \n",
       "6415   s6416  TV Show  The Great British Baking Show     Andy Devonshire   \n",
       "\n",
       "                                                   cast         country  \\\n",
       "1181  Vanessa Redgrave, Bryony Hannah, Helen George,...  United Kingdom   \n",
       "4404  Junko Takeuchi, Chie Nakamura, Noriaki Sugiyam...           Japan   \n",
       "584   Stephen Amell, Katie Cassidy, David Ramsey, Wi...   United States   \n",
       "5291  Mark Feuerstein, Paulo Costanzo, Reshma Shetty...   United States   \n",
       "6415  Mel Giedroyc, Sue Perkins, Mary Berry, Paul Ho...  United Kingdom   \n",
       "\n",
       "              date_added  release_year rating   duration  \\\n",
       "1181  September 15, 2020          2020  TV-MA  9 Seasons   \n",
       "4404   September 1, 2019          2006  TV-14  9 Seasons   \n",
       "584     February 5, 2020          2019  TV-14  8 Seasons   \n",
       "5291        May 18, 2017          2016  TV-PG  8 Seasons   \n",
       "6415  September 25, 2020          2020  TV-14  8 Seasons   \n",
       "\n",
       "                                              listed_in  \\\n",
       "1181  British TV Shows, International TV Shows, TV D...   \n",
       "4404               Anime Series, International TV Shows   \n",
       "584               Crime TV Shows, TV Action & Adventure   \n",
       "5291                             TV Comedies, TV Dramas   \n",
       "6415                       British TV Shows, Reality TV   \n",
       "\n",
       "                                            description  \n",
       "1181  This period drama set in impoverished East Lon...  \n",
       "4404  Guided by the spirit demon within him, orphane...  \n",
       "584   Based on DC Comics' Green Arrow, an affluent p...  \n",
       "5291  Dr. Hank Lawson unexpectedly gets a career upg...  \n",
       "6415  A talented batch of amateur bakers face off in...  "
      ]
     },
     "execution_count": 43,
     "metadata": {},
     "output_type": "execute_result"
    }
   ],
   "source": [
    "netfx_byseasons = netfx_df.query('type == \"TV Show\"')\n",
    "netfx_byseasons = netfx_byseasons.query('duration >= \"5 Season\"').sort_values('duration',ascending = False)\n",
    "netfx_byseasons.head(5)"
   ]
  },
  {
   "cell_type": "markdown",
   "metadata": {},
   "source": [
    "### Indian Movies Released In 2020 ?"
   ]
  },
  {
   "cell_type": "code",
   "execution_count": 46,
   "metadata": {},
   "outputs": [
    {
     "data": {
      "text/html": [
       "<div>\n",
       "<style scoped>\n",
       "    .dataframe tbody tr th:only-of-type {\n",
       "        vertical-align: middle;\n",
       "    }\n",
       "\n",
       "    .dataframe tbody tr th {\n",
       "        vertical-align: top;\n",
       "    }\n",
       "\n",
       "    .dataframe thead th {\n",
       "        text-align: right;\n",
       "    }\n",
       "</style>\n",
       "<table border=\"1\" class=\"dataframe\">\n",
       "  <thead>\n",
       "    <tr style=\"text-align: right;\">\n",
       "      <th></th>\n",
       "      <th>show_id</th>\n",
       "      <th>type</th>\n",
       "      <th>title</th>\n",
       "      <th>director</th>\n",
       "      <th>cast</th>\n",
       "      <th>country</th>\n",
       "      <th>date_added</th>\n",
       "      <th>release_year</th>\n",
       "      <th>rating</th>\n",
       "      <th>duration</th>\n",
       "      <th>listed_in</th>\n",
       "      <th>description</th>\n",
       "    </tr>\n",
       "  </thead>\n",
       "  <tbody>\n",
       "    <tr>\n",
       "      <th>244</th>\n",
       "      <td>s245</td>\n",
       "      <td>Movie</td>\n",
       "      <td>A truthful Mother</td>\n",
       "      <td>Ravishankar Venkateswaran</td>\n",
       "      <td>Revathi, Roger Narayanan, Sneha Ravishankar, V...</td>\n",
       "      <td>India</td>\n",
       "      <td>March 31, 2020</td>\n",
       "      <td>2020</td>\n",
       "      <td>TV-Y7</td>\n",
       "      <td>85 min</td>\n",
       "      <td>Children &amp; Family Movies</td>\n",
       "      <td>Facing a drought, a hungry tiger and a noble c...</td>\n",
       "    </tr>\n",
       "    <tr>\n",
       "      <th>362</th>\n",
       "      <td>s363</td>\n",
       "      <td>Movie</td>\n",
       "      <td>AK vs AK</td>\n",
       "      <td>Vikramaditya Motwane</td>\n",
       "      <td>Anil Kapoor, Anurag Kashyap</td>\n",
       "      <td>India</td>\n",
       "      <td>December 25, 2020</td>\n",
       "      <td>2020</td>\n",
       "      <td>TV-MA</td>\n",
       "      <td>109 min</td>\n",
       "      <td>Comedies, Dramas, International Movies</td>\n",
       "      <td>After a public spat with a movie star, a disgr...</td>\n",
       "    </tr>\n",
       "    <tr>\n",
       "      <th>368</th>\n",
       "      <td>s369</td>\n",
       "      <td>Movie</td>\n",
       "      <td>Ala Vaikunthapurramuloo</td>\n",
       "      <td>Trivikram Srinivas</td>\n",
       "      <td>Allu Arjun, Pooja Hegde, Tabu, Sushanth, Nivet...</td>\n",
       "      <td>India</td>\n",
       "      <td>February 27, 2020</td>\n",
       "      <td>2020</td>\n",
       "      <td>TV-14</td>\n",
       "      <td>162 min</td>\n",
       "      <td>Action &amp; Adventure, Comedies, Dramas</td>\n",
       "      <td>After growing up enduring criticism from his f...</td>\n",
       "    </tr>\n",
       "    <tr>\n",
       "      <th>510</th>\n",
       "      <td>s511</td>\n",
       "      <td>Movie</td>\n",
       "      <td>Andhakaaram</td>\n",
       "      <td>V Vignarajan</td>\n",
       "      <td>Vinoth Kishan, Arjun Das, Pooja Ramachandran, ...</td>\n",
       "      <td>India</td>\n",
       "      <td>November 24, 2020</td>\n",
       "      <td>2020</td>\n",
       "      <td>TV-14</td>\n",
       "      <td>171 min</td>\n",
       "      <td>Horror Movies, International Movies, Thrillers</td>\n",
       "      <td>As a blind librarian, dispirited cricketer and...</td>\n",
       "    </tr>\n",
       "    <tr>\n",
       "      <th>605</th>\n",
       "      <td>s606</td>\n",
       "      <td>Movie</td>\n",
       "      <td>Asura Guru</td>\n",
       "      <td>A. Raajdheep</td>\n",
       "      <td>Vikram Prabhu, Subbaraju, Mahima Nambiar, Yogi...</td>\n",
       "      <td>India</td>\n",
       "      <td>June 13, 2020</td>\n",
       "      <td>2020</td>\n",
       "      <td>TV-14</td>\n",
       "      <td>117 min</td>\n",
       "      <td>Dramas, International Movies</td>\n",
       "      <td>For a tech-savvy thief, elaborate robberies an...</td>\n",
       "    </tr>\n",
       "  </tbody>\n",
       "</table>\n",
       "</div>"
      ],
      "text/plain": [
       "    show_id   type                    title                   director  \\\n",
       "244    s245  Movie        A truthful Mother  Ravishankar Venkateswaran   \n",
       "362    s363  Movie                 AK vs AK       Vikramaditya Motwane   \n",
       "368    s369  Movie  Ala Vaikunthapurramuloo         Trivikram Srinivas   \n",
       "510    s511  Movie              Andhakaaram               V Vignarajan   \n",
       "605    s606  Movie               Asura Guru               A. Raajdheep   \n",
       "\n",
       "                                                  cast country  \\\n",
       "244  Revathi, Roger Narayanan, Sneha Ravishankar, V...   India   \n",
       "362                        Anil Kapoor, Anurag Kashyap   India   \n",
       "368  Allu Arjun, Pooja Hegde, Tabu, Sushanth, Nivet...   India   \n",
       "510  Vinoth Kishan, Arjun Das, Pooja Ramachandran, ...   India   \n",
       "605  Vikram Prabhu, Subbaraju, Mahima Nambiar, Yogi...   India   \n",
       "\n",
       "            date_added  release_year rating duration  \\\n",
       "244     March 31, 2020          2020  TV-Y7   85 min   \n",
       "362  December 25, 2020          2020  TV-MA  109 min   \n",
       "368  February 27, 2020          2020  TV-14  162 min   \n",
       "510  November 24, 2020          2020  TV-14  171 min   \n",
       "605      June 13, 2020          2020  TV-14  117 min   \n",
       "\n",
       "                                          listed_in  \\\n",
       "244                        Children & Family Movies   \n",
       "362          Comedies, Dramas, International Movies   \n",
       "368            Action & Adventure, Comedies, Dramas   \n",
       "510  Horror Movies, International Movies, Thrillers   \n",
       "605                    Dramas, International Movies   \n",
       "\n",
       "                                           description  \n",
       "244  Facing a drought, a hungry tiger and a noble c...  \n",
       "362  After a public spat with a movie star, a disgr...  \n",
       "368  After growing up enduring criticism from his f...  \n",
       "510  As a blind librarian, dispirited cricketer and...  \n",
       "605  For a tech-savvy thief, elaborate robberies an...  "
      ]
     },
     "execution_count": 46,
     "metadata": {},
     "output_type": "execute_result"
    }
   ],
   "source": [
    "netfx_df.query('type == \"Movie\"' and 'country == \"India\"').query('release_year == 2020').head(5)"
   ]
  }
 ],
 "metadata": {
  "kernelspec": {
   "display_name": "Python 3",
   "language": "python",
   "name": "python3"
  },
  "language_info": {
   "codemirror_mode": {
    "name": "ipython",
    "version": 3
   },
   "file_extension": ".py",
   "mimetype": "text/x-python",
   "name": "python",
   "nbconvert_exporter": "python",
   "pygments_lexer": "ipython3",
   "version": "3.8.6"
  }
 },
 "nbformat": 4,
 "nbformat_minor": 4
}
